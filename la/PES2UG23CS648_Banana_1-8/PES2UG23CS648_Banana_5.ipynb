{
 "cells": [
  {
   "cell_type": "code",
   "execution_count": 3,
   "metadata": {},
   "outputs": [],
   "source": [
    "import numpy as np\n",
    "\n",
    "# Define the system of equations (Example: 10 teams, 10 equations)\n",
    "A = np.array([\n",
    "    [1, -1, 0, 0, 0, 0, 0, 0, 0, 0],\n",
    "    [-1, 1, -1, 0, 0, 0, 0, 0, 0, 0],\n",
    "    [0, -1, 1, -1, 0, 0, 0, 0, 0, 0],\n",
    "    [0, 0, -1, 1, -1, 0, 0, 0, 0, 0],\n",
    "    [0, 0, 0, -1, 1, -1, 0, 0, 0, 0],\n",
    "    [0, 0, 0, 0, -1, 1, -1, 0, 0, 0],\n",
    "    [0, 0, 0, 0, 0, -1, 1, -1, 0, 0],\n",
    "    [0, 0, 0, 0, 0, 0, -1, 1, -1, 0],\n",
    "    [0, 0, 0, 0, 0, 0, 0, -1, 1, -1],\n",
    "    [0, 0, 0, 0, 0, 0, 0, 0, -1, 1]\n",
    "])\n",
    "\n",
    "b = np.array([10, 8, 6, 4, 2, 0, -2, -4, -6, -8])  # Example game results\n",
    "\n"
   ]
  },
  {
   "cell_type": "code",
   "execution_count": 4,
   "metadata": {},
   "outputs": [],
   "source": [
    "# Gaussian Elimination Implementation\n",
    "def gaussian_elimination(A, b):\n",
    "    n = len(b)\n",
    "    for i in range(n):\n",
    "        max_row = np.argmax(abs(A[i:, i])) + i\n",
    "        A[[i, max_row]] = A[[max_row, i]]  # Swap rows\n",
    "        b[i], b[max_row] = b[max_row], b[i]\n",
    "        A[i] = A[i] / A[i, i]\n",
    "        b[i] = b[i] / A[i, i]\n",
    "        for j in range(i+1, n):\n",
    "            factor = A[j, i]\n",
    "            A[j] -= factor * A[i]\n",
    "            b[j] -= factor * b[i]\n",
    "    \n",
    "    x = np.zeros(n)\n",
    "    for i in range(n-1, -1, -1):\n",
    "        x[i] = b[i] - np.sum(A[i, i+1:] * x[i+1:])\n",
    "    return x\n",
    "\n"
   ]
  },
  {
   "cell_type": "code",
   "execution_count": 5,
   "metadata": {},
   "outputs": [],
   "source": [
    "# Solve for rankings\n",
    "rankings = gaussian_elimination(A.astype(float), b.astype(float))\n",
    "\n"
   ]
  },
  {
   "cell_type": "code",
   "execution_count": 6,
   "metadata": {},
   "outputs": [],
   "source": [
    "# Team names (example placeholder names)\n",
    "teams = [\"Team A\", \"Team B\", \"Team C\", \"Team D\", \"Team E\", \"Team F\", \"Team G\", \"Team H\", \"Team I\", \"Team J\"]\n",
    "\n"
   ]
  },
  {
   "cell_type": "code",
   "execution_count": 7,
   "metadata": {},
   "outputs": [],
   "source": [
    "# Sort teams based on rankings\n",
    "sorted_teams = sorted(zip(teams, rankings), key=lambda x: x[1], reverse=True)\n",
    "\n"
   ]
  },
  {
   "cell_type": "code",
   "execution_count": 8,
   "metadata": {},
   "outputs": [
    {
     "name": "stdout",
     "output_type": "stream",
     "text": [
      "College Football Team Rankings:\n",
      "1. Team F\n",
      "2. Team G\n",
      "3. Team D\n",
      "4. Team C\n",
      "5. Team I\n",
      "6. Team A\n",
      "7. Team J\n",
      "8. Team B\n",
      "9. Team H\n",
      "10. Team E\n"
     ]
    }
   ],
   "source": [
    "# Display rankings\n",
    "print(\"College Football Team Rankings:\")\n",
    "for rank, (team, score) in enumerate(sorted_teams, start=1):\n",
    "    print(f\"{rank}. {team}\")"
   ]
  }
 ],
 "metadata": {
  "kernelspec": {
   "display_name": "Python 3",
   "language": "python",
   "name": "python3"
  },
  "language_info": {
   "codemirror_mode": {
    "name": "ipython",
    "version": 3
   },
   "file_extension": ".py",
   "mimetype": "text/x-python",
   "name": "python",
   "nbconvert_exporter": "python",
   "pygments_lexer": "ipython3",
   "version": "3.11.5"
  }
 },
 "nbformat": 4,
 "nbformat_minor": 2
}
