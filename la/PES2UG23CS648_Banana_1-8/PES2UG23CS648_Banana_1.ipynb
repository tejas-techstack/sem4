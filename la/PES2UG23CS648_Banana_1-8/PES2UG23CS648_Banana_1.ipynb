{
 "cells": [
  {
   "cell_type": "code",
   "execution_count": 2,
   "metadata": {},
   "outputs": [],
   "source": [
    "import numpy as np"
   ]
  },
  {
   "cell_type": "code",
   "execution_count": 5,
   "metadata": {},
   "outputs": [
    {
     "name": "stdout",
     "output_type": "stream",
     "text": [
      "Length of A: 3\n",
      "Length of B: 3\n"
     ]
    }
   ],
   "source": [
    "#determine the length of the matrix\n",
    "A = np.array([[1, 2, 3], [4, 5, 6], [7, 8, 9]])\n",
    "B = np.array([10, 11, 12])\n",
    "print(\"Length of A:\", len(A))\n",
    "print(\"Length of B:\", len(B))"
   ]
  },
  {
   "cell_type": "code",
   "execution_count": 7,
   "metadata": {},
   "outputs": [
    {
     "name": "stdout",
     "output_type": "stream",
     "text": [
      "Matrix C:\n",
      " [[ 1  2  3]\n",
      " [ 4  5  6]\n",
      " [ 7  8  9]\n",
      " [10 11 12]]\n"
     ]
    }
   ],
   "source": [
    "# Add B as the fourth row of A to create C\n",
    "C = np.vstack([A, B])\n",
    "print(\"Matrix C:\\n\", C)"
   ]
  },
  {
   "cell_type": "code",
   "execution_count": 8,
   "metadata": {},
   "outputs": [
    {
     "name": "stdout",
     "output_type": "stream",
     "text": [
      "Matrix D:\n",
      " [[ 5  6]\n",
      " [ 8  9]\n",
      " [11 12]]\n"
     ]
    }
   ],
   "source": [
    "# Create D from rows 2, 3, 4 and columns 3, 4 of C\n",
    "D = C[1:4, 1:3]\n",
    "print(\"Matrix D:\\n\", D)"
   ]
  },
  {
   "cell_type": "code",
   "execution_count": 9,
   "metadata": {},
   "outputs": [
    {
     "name": "stdout",
     "output_type": "stream",
     "text": [
      "Matrix E:\n",
      " [[ 5  8 11]\n",
      " [ 6  9 12]]\n"
     ]
    }
   ],
   "source": [
    "#Transpose D to create E\n",
    "E = D.T\n",
    "print(\"Matrix E:\\n\", E)"
   ]
  },
  {
   "cell_type": "code",
   "execution_count": 10,
   "metadata": {},
   "outputs": [
    {
     "name": "stdout",
     "output_type": "stream",
     "text": [
      "Size of E: (2, 3)\n"
     ]
    }
   ],
   "source": [
    "#Check the size of E\n",
    "print(\"Size of E:\", E.shape)"
   ]
  },
  {
   "cell_type": "code",
   "execution_count": 12,
   "metadata": {},
   "outputs": [
    {
     "name": "stdout",
     "output_type": "stream",
     "text": [
      "Equally spaced vector: [ 1.    3.25  5.5   7.75 10.  ]\n"
     ]
    }
   ],
   "source": [
    "#Create equally spaced vectors\n",
    "vector = np.linspace(1, 10, 5)\n",
    "print(\"Equally spaced vector:\", vector)"
   ]
  },
  {
   "cell_type": "code",
   "execution_count": 15,
   "metadata": {},
   "outputs": [
    {
     "name": "stdout",
     "output_type": "stream",
     "text": [
      "Max in each column: [7 8 9]\n",
      "Min in each column: [1 2 3]\n"
     ]
    }
   ],
   "source": [
    "#Find the max  in each column and row of A\n",
    "print(\"Max in each column:\", np.max(A, axis=0))\n",
    "print(\"Min in each column:\", np.min(A, axis=0))\n"
   ]
  },
  {
   "cell_type": "code",
   "execution_count": 14,
   "metadata": {},
   "outputs": [
    {
     "name": "stdout",
     "output_type": "stream",
     "text": [
      "Max in each row: [3 6 9]\n",
      "Min in each row: [1 4 7]\n"
     ]
    }
   ],
   "source": [
    "##Find the min in each column and row of A\n",
    "print(\"Max in each row:\", np.max(A, axis=1))\n",
    "print(\"Min in each row:\", np.min(A, axis=1))"
   ]
  },
  {
   "cell_type": "code",
   "execution_count": 18,
   "metadata": {},
   "outputs": [
    {
     "name": "stdout",
     "output_type": "stream",
     "text": [
      "Mean of each column: [4. 5. 6.]\n",
      "Sum of each column: [12 15 18]\n",
      "Mean of each row: [2. 5. 8.]\n",
      "Sum of each row: [ 6 15 24]\n"
     ]
    }
   ],
   "source": [
    "#Calculate mean and sum in each column and row of A\n",
    "print(\"Mean of each column:\", np.mean(A, axis=0))\n",
    "print(\"Sum of each column:\", np.sum(A, axis=0))\n",
    "\n",
    "print(\"Mean of each row:\", np.mean(A, axis=1))\n",
    "print(\"Sum of each row:\", np.sum(A, axis=1))"
   ]
  },
  {
   "cell_type": "code",
   "execution_count": 21,
   "metadata": {},
   "outputs": [
    {
     "name": "stdout",
     "output_type": "stream",
     "text": [
      "Matrix F:\n",
      " [[9 1 2]\n",
      " [5 8 9]\n",
      " [2 1 2]]\n",
      "Matrix G:\n",
      " [[3 1 3]\n",
      " [9 5 4]\n",
      " [9 6 8]]\n"
     ]
    }
   ],
   "source": [
    "#Create random matrices F and G\n",
    "F = np.random.randint(1, 10, (3, 3))\n",
    "G = np.random.randint(1, 10, (3, 3))\n",
    "print(\"Matrix F:\\n\", F)\n",
    "print(\"Matrix G:\\n\", G)"
   ]
  },
  {
   "cell_type": "code",
   "execution_count": 22,
   "metadata": {},
   "outputs": [
    {
     "name": "stdout",
     "output_type": "stream",
     "text": [
      "F * 2:\n",
      " [[18  2  4]\n",
      " [10 16 18]\n",
      " [ 4  2  4]]\n",
      "F + G:\n",
      " [[12  2  5]\n",
      " [14 13 13]\n",
      " [11  7 10]]\n",
      "F - G:\n",
      " [[ 6  0 -1]\n",
      " [-4  3  5]\n",
      " [-7 -5 -6]]\n",
      "Element-wise multiplication:\n",
      " [[27  1  6]\n",
      " [45 40 36]\n",
      " [18  6 16]]\n"
     ]
    }
   ],
   "source": [
    "#Perform scalar multiplication, addition, subtraction, element-wise multiplication\n",
    "print(\"F * 2:\\n\", F * 2)\n",
    "print(\"F + G:\\n\", F + G)\n",
    "print(\"F - G:\\n\", F - G)\n",
    "print(\"Element-wise multiplication:\\n\", F * G)\n"
   ]
  },
  {
   "cell_type": "code",
   "execution_count": 23,
   "metadata": {},
   "outputs": [
    {
     "name": "stdout",
     "output_type": "stream",
     "text": [
      "Matrix Multiplication:\n",
      " [[ 27  39  51]\n",
      " [100 122 144]\n",
      " [ 20  25  30]]\n"
     ]
    }
   ],
   "source": [
    "#Check size of F and A, perform matrix multiplication if compatible\n",
    "if F.shape[1] == A.shape[0]:\n",
    "    print(\"Matrix Multiplication:\\n\", np.dot(F, A))"
   ]
  },
  {
   "cell_type": "code",
   "execution_count": 25,
   "metadata": {},
   "outputs": [
    {
     "name": "stdout",
     "output_type": "stream",
     "text": [
      "Identity Matrix:\n",
      " [[1. 0. 0.]\n",
      " [0. 1. 0.]\n",
      " [0. 0. 1.]]\n",
      "Zero Matrix:\n",
      " [[0. 0. 0.]\n",
      " [0. 0. 0.]\n",
      " [0. 0. 0.]\n",
      " [0. 0. 0.]\n",
      " [0. 0. 0.]]\n",
      "One Matrix:\n",
      " [[1. 1.]\n",
      " [1. 1.]\n",
      " [1. 1.]\n",
      " [1. 1.]]\n",
      "Diagonal Matrix S:\n",
      " [[1 0 0]\n",
      " [0 2 0]\n",
      " [0 0 7]]\n",
      "Extracted diagonal elements:\n",
      " [5 1 6 3 2 5]\n",
      "Sparse diagonal matrix converted to dense:\n",
      " [[1. 0. 0. 0.]\n",
      " [0. 2. 0. 0.]\n",
      " [0. 0. 3. 0.]\n",
      " [0. 0. 0. 4.]]\n"
     ]
    }
   ],
   "source": [
    "#Generate special matrices\n",
    "identity_matrix = np.eye(3)\n",
    "zero_matrix = np.zeros((5, 3))\n",
    "one_matrix = np.ones((4, 2))\n",
    "S = np.diag([1, 2, 7])\n",
    "random_matrix = np.random.randint(1, 10, (6, 6))\n",
    "diagonal_elements = np.diag(random_matrix)\n",
    "sparse_matrix = np.diag([1, 2, 3, 4])\n",
    "dense_matrix = sparse_matrix.astype(float)\n",
    "\n",
    "print(\"Identity Matrix:\\n\", identity_matrix)\n",
    "print(\"Zero Matrix:\\n\", zero_matrix)\n",
    "print(\"One Matrix:\\n\", one_matrix)\n",
    "print(\"Diagonal Matrix S:\\n\", S)\n",
    "print(\"Extracted diagonal elements:\\n\", diagonal_elements)\n",
    "print(\"Sparse diagonal matrix converted to dense:\\n\", dense_matrix)"
   ]
  },
  {
   "cell_type": "code",
   "execution_count": null,
   "metadata": {},
   "outputs": [],
   "source": []
  }
 ],
 "metadata": {
  "kernelspec": {
   "display_name": "Python 3",
   "language": "python",
   "name": "python3"
  },
  "language_info": {
   "codemirror_mode": {
    "name": "ipython",
    "version": 3
   },
   "file_extension": ".py",
   "mimetype": "text/x-python",
   "name": "python",
   "nbconvert_exporter": "python",
   "pygments_lexer": "ipython3",
   "version": "3.11.5"
  }
 },
 "nbformat": 4,
 "nbformat_minor": 2
}
