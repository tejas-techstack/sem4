{
 "cells": [
  {
   "cell_type": "code",
   "execution_count": 2,
   "metadata": {},
   "outputs": [],
   "source": [
    "import numpy as np\n",
    "import scipy.linalg as la\n",
    "import time\n",
    "\n",
    "# Define Matrix A and vector b\n",
    "A = np.array([[3, 2, -1], [2, -2, 4], [-1, 0.5, -1]])\n",
    "b = np.array([1, -2, 0])"
   ]
  },
  {
   "cell_type": "code",
   "execution_count": 3,
   "metadata": {},
   "outputs": [
    {
     "name": "stdout",
     "output_type": "stream",
     "text": [
      "\n",
      "Solution vector x:\n",
      "[ 1. -2. -2.]\n"
     ]
    }
   ],
   "source": [
    "# Solve the system Ax = b using numpy's solve function\n",
    "x = np.linalg.solve(A, b)\n",
    "# Print the solution vector X\n",
    "print(\"\\nSolution vector x:\")\n",
    "print(x)"
   ]
  },
  {
   "cell_type": "code",
   "execution_count": 4,
   "metadata": {},
   "outputs": [
    {
     "name": "stdout",
     "output_type": "stream",
     "text": [
      "\n",
      "Residual vector r:\n",
      "[ 4.44089210e-16  1.77635684e-15 -2.22044605e-16]\n"
     ]
    }
   ],
   "source": [
    "# Calculate the residual r = A*x - b\n",
    "r = np.dot(A, x) - b\n",
    "# Print the residual vector r\n",
    "print(\"\\nResidual vector r:\")\n",
    "print(r)"
   ]
  },
  {
   "cell_type": "code",
   "execution_count": 6,
   "metadata": {},
   "outputs": [
    {
     "name": "stdout",
     "output_type": "stream",
     "text": [
      "Solution using LU Decomposition: [ 1. -2. -2.]\n"
     ]
    }
   ],
   "source": [
    "P, L, U = la.lu(A)\n",
    "y = np.linalg.solve(L, np.dot(P, b))\n",
    "x_lu = np.linalg.solve(U, y)\n",
    "print(\"Solution using LU Decomposition:\", x_lu)"
   ]
  },
  {
   "cell_type": "code",
   "execution_count": 9,
   "metadata": {},
   "outputs": [
    {
     "name": "stdout",
     "output_type": "stream",
     "text": [
      "\n",
      "Solution vector y:\n",
      "[ 1. -2. -2.]\n"
     ]
    }
   ],
   "source": [
    "# Solve the system Ax = b using numpy's least squares function \n",
    "y = np.linalg.lstsq(A, b, rcond=None) [0]\n",
    "# Print the solution vector y\n",
    "print(\"\\nSolution vector y:\")\n",
    "print(y)"
   ]
  },
  {
   "cell_type": "code",
   "execution_count": 7,
   "metadata": {},
   "outputs": [
    {
     "name": "stdout",
     "output_type": "stream",
     "text": [
      "\n",
      "Solution vector x2 using inverse:\n",
      "[ 1. -2. -2.]\n",
      "\n",
      "Residual vector r2:\n",
      "[-1.11022302e-16  1.77635684e-15  0.00000000e+00]\n",
      "\n",
      "Error vector err2:\n",
      "[ 2.22044605e-16 -2.22044605e-16 -2.22044605e-16]\n"
     ]
    }
   ],
   "source": [
    "# Solve the system Ax = b using matrix inverse\n",
    "A_inv = np.linalg.inv(A)\n",
    "x2= np.dot(A_inv, b)\n",
    "# Calculate the residual r2 and error err2\n",
    "r2= np.dot(A, x2) - b\n",
    "err2 = x - x2\n",
    "# Print solution vector x2, residual r2 and error err2\n",
    "print(\"\\nSolution vector x2 using inverse:\")\n",
    "print(x2)\n",
    "print(\"\\nResidual vector r2:\")\n",
    "print(r2)\n",
    "print(\"\\nError vector err2:\")\n",
    "print(err2)"
   ]
  },
  {
   "cell_type": "code",
   "execution_count": 13,
   "metadata": {},
   "outputs": [
    {
     "name": "stdout",
     "output_type": "stream",
     "text": [
      "Augmented matrix [A|b]:\n",
      "[[ 1.  2. -1.  3.]\n",
      " [ 2.  4. -1.  6.]\n",
      " [-1.  1.  3.  4.]]\n",
      "\n",
      "Reduced Row Echelon Form (RREF) of [A|b]:\n",
      "[[ 1.          0.          0.         -1.66666667]\n",
      " [ 0.          1.          0.          2.33333333]\n",
      " [ 0.          0.          1.          0.        ]]\n",
      "\n",
      "Solution vector x3 (from RREF):\n",
      "[-1.66666667  2.33333333  0.        ]\n",
      "\n",
      "Residual vector r3 (from RREF):\n",
      "[0. 0. 0.]\n",
      "\n",
      "Error vector err3 (difference between x and x3):\n",
      "[ 2.66666667 -0.33333333  3.        ]\n"
     ]
    }
   ],
   "source": [
    "import numpy as np\n",
    "\n",
    "def rref(A):\n",
    "    '''\n",
    "    Computes the reduced row echelon form (RREF) of a matrix A.\n",
    "    Parameters:\n",
    "    A: numpy.ndarray\n",
    "    Input matrix of shape (m, n)\n",
    "    Returns:\n",
    "    R: numpy.ndarray\n",
    "    Reduced row echelon form of matrix A\n",
    "    '''\n",
    "    A = A.astype(float)\n",
    "    m, n = A.shape\n",
    "    lead = 0\n",
    "    \n",
    "    for r in range(m):\n",
    "        if lead >= n:\n",
    "            break\n",
    "        if A[r, lead] == 0:  # Find a row with a non-zero element in the current column\n",
    "            for i in range(r + 1, m):\n",
    "                if A[i, lead] != 0:\n",
    "                    A[[r, i]] = A[[i, r]]  # Swap rows\n",
    "                    break\n",
    "        if A[r, lead] != 0:  # If the lead element is non-zero, normalize the row\n",
    "            A[r] = A[r] / A[r, lead]\n",
    "        for i in range(m):  # Eliminate all other entries in the column\n",
    "            if i != r and A[i, lead] != 0:\n",
    "                A[i] = A[i] - A[i, lead] * A[r]\n",
    "        lead += 1\n",
    "    return A\n",
    "\n",
    "# Example setup\n",
    "A = np.array([[1, 2, -1], [2, 4, -1], [-1, 1, 3]], dtype=float)\n",
    "b = np.array([3, 6, 4], dtype=float)\n",
    "x = np.array([1, 2, 3], dtype=float)  # This is the known solution (for error calculation)\n",
    "\n",
    "# Compute augmented matrix [A|b]\n",
    "C = np.hstack((A, b.reshape(-1, 1)))\n",
    "print(\"Augmented matrix [A|b]:\")\n",
    "print(C)\n",
    "\n",
    "# Compute the reduced row echelon form of the augmented matrix\n",
    "R = rref(C)\n",
    "print(\"\\nReduced Row Echelon Form (RREF) of [A|b]:\")\n",
    "print(R)\n",
    "\n",
    "# Extract the solution vector from the last column of the RREF matrix\n",
    "x3 = R[:, -1]\n",
    "print(\"\\nSolution vector x3 (from RREF):\")\n",
    "print(x3)\n",
    "\n",
    "# Calculate residuals r3 = np.dot(A, x3) - b\n",
    "r3 = np.dot(A, x3) - b\n",
    "print(\"\\nResidual vector r3 (from RREF):\")\n",
    "print(r3)\n",
    "\n",
    "# Calculate the error vector err3 = x - x3\n",
    "err3 = x - x3\n",
    "print(\"\\nError vector err3 (difference between x and x3):\")\n",
    "print(err3)\n"
   ]
  },
  {
   "cell_type": "code",
   "execution_count": 14,
   "metadata": {},
   "outputs": [
    {
     "name": "stdout",
     "output_type": "stream",
     "text": [
      "\n",
      "Solution vector x1 (using backslash operator):\n",
      "[-1.66666667  2.33333333 -0.        ]\n",
      "\n",
      "Solution vector x2 (using matrix inverse):\n",
      "[-1.66666667  2.33333333  0.        ]\n",
      "\n",
      "Solution vector x3 (using reduced row echelon form):\n",
      "[-1.66666667  2.33333333  0.        ]\n",
      "\n",
      "Computational times:\n",
      "Backslash operator: 0.000000 seconds\n",
      "Matrix inverse: 0.003414 seconds\n",
      "Reduced row echelon form (rref): 0.000000 seconds\n"
     ]
    }
   ],
   "source": [
    "import numpy as np\n",
    "import time\n",
    "\n",
    "# Define your matrix A and vector b\n",
    "A = np.array([[1, 2, -1], [2, 4, -1], [-1, 1, 3]], dtype=float)\n",
    "b = np.array([3, 6, 4], dtype=float)\n",
    "\n",
    "# Method 1: Solve using solve operator\n",
    "start_time = time.time()\n",
    "x1 = np.linalg.solve(A, b)\n",
    "end_time = time.time()\n",
    "time_backslash = end_time - start_time  # Fix the time calculation\n",
    "\n",
    "# Method 2: Solve using matrix inverse\n",
    "start_time = time.time()\n",
    "x2 = np.linalg.inv(A) @ b\n",
    "end_time = time.time()\n",
    "time_inv = end_time - start_time  # Fix the time calculation\n",
    "\n",
    "# Method 3: Solve using reduced row echelon form (rref)\n",
    "start_time = time.time()\n",
    "C = np.hstack((A, b.reshape(-1, 1)))  # Ensure b is a column vector\n",
    "R = rref(C)\n",
    "x3 = R[:, -1]\n",
    "end_time = time.time()\n",
    "time_rref = end_time - start_time  # Fix the time calculation\n",
    "\n",
    "# Print the solution vectors and computational times\n",
    "print(\"\\nSolution vector x1 (using backslash operator):\")\n",
    "print(x1)\n",
    "\n",
    "print(\"\\nSolution vector x2 (using matrix inverse):\")\n",
    "print(x2)\n",
    "\n",
    "print(\"\\nSolution vector x3 (using reduced row echelon form):\")\n",
    "print(x3)\n",
    "\n",
    "print(\"\\nComputational times:\")\n",
    "print(f\"Backslash operator: {time_backslash:.6f} seconds\")\n",
    "print(f\"Matrix inverse: {time_inv:.6f} seconds\")\n",
    "print(f\"Reduced row echelon form (rref): {time_rref:.6f} seconds\")\n"
   ]
  },
  {
   "cell_type": "code",
   "execution_count": 15,
   "metadata": {},
   "outputs": [
    {
     "name": "stdout",
     "output_type": "stream",
     "text": [
      "\n",
      "Solution vector x (using lstsq):\n",
      "[[0.38888889]\n",
      " [0.22222222]\n",
      " [0.05555556]]\n",
      "\n",
      "Residual vector r1:\n",
      "[[1.11022302e-15]\n",
      " [2.22044605e-15]\n",
      " [2.66453526e-15]]\n",
      "\n",
      "Solution vector y (from pseudoinverse):\n",
      "[[0.38888889]\n",
      " [0.22222222]\n",
      " [0.05555556]]\n",
      "\n",
      "Residual vector r2:\n",
      "[[ 6.66133815e-16]\n",
      " [ 0.00000000e+00]\n",
      " [-8.88178420e-16]]\n"
     ]
    }
   ],
   "source": [
    "import numpy as np\n",
    "\n",
    "# Define matrix A and vector b for the underdetermined system\n",
    "A = np.array([[1, 2, 3], [4, 5, 6], [7, 8, 9]])  # Fixed the matrix A (no misplaced bracket)\n",
    "b = np.array([1, 3, 5]).reshape(-1, 1)  # `b` should be a column vector (reshaping)\n",
    "\n",
    "# Solve the system Ax = b using the least squares solution (backslash operator equivalent)\n",
    "x, _, _, _ = np.linalg.lstsq(A, b, rcond=None)  # lstsq returns a tuple, so we take the first element\n",
    "\n",
    "# Calculate the residual r1 = Ax - b\n",
    "r1 = np.dot(A, x) - b\n",
    "\n",
    "# Print the solution vector x\n",
    "print(\"\\nSolution vector x (using lstsq):\")\n",
    "print(x)\n",
    "\n",
    "# Print the residual vector r1\n",
    "print(\"\\nResidual vector r1:\")\n",
    "print(r1)\n",
    "\n",
    "# Obtain another particular solution using the pseudoinverse pinv(A)\n",
    "A_pinv = np.linalg.pinv(A)\n",
    "y = np.dot(A_pinv, b)\n",
    "\n",
    "# Calculate the residual r2 = A * y - b\n",
    "r2 = np.dot(A, y) - b\n",
    "\n",
    "# Print the solution vector y from pseudoinverse\n",
    "print(\"\\nSolution vector y (from pseudoinverse):\")\n",
    "print(y)\n",
    "\n",
    "# Print the residual vector r2\n",
    "print(\"\\nResidual vector r2:\")\n",
    "print(r2)\n"
   ]
  },
  {
   "cell_type": "code",
   "execution_count": null,
   "metadata": {},
   "outputs": [],
   "source": []
  }
 ],
 "metadata": {
  "kernelspec": {
   "display_name": "Python 3",
   "language": "python",
   "name": "python3"
  },
  "language_info": {
   "codemirror_mode": {
    "name": "ipython",
    "version": 3
   },
   "file_extension": ".py",
   "mimetype": "text/x-python",
   "name": "python",
   "nbconvert_exporter": "python",
   "pygments_lexer": "ipython3",
   "version": "3.11.5"
  }
 },
 "nbformat": 4,
 "nbformat_minor": 2
}
