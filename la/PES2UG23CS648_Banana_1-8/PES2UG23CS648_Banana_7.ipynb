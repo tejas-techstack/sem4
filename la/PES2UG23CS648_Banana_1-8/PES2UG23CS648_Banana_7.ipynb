{
 "cells": [
  {
   "cell_type": "markdown",
   "id": "350fc525",
   "metadata": {},
   "source": [
    "# Project 7: Norms, angles, and your movie choices"
   ]
  },
  {
   "cell_type": "markdown",
   "id": "c03a6b69",
   "metadata": {},
   "source": [
    "# Task 1: Load and Understand the Data\n",
    "\n",
    "What happens here?\n",
    "-- You load the provided .mat file\n",
    "-- Extract different matrices and arrays from the file"
   ]
  },
  {
   "cell_type": "code",
   "execution_count": 2,
   "id": "3d53a25f",
   "metadata": {},
   "outputs": [
    {
     "name": "stdout",
     "output_type": "stream",
     "text": [
      "Movies: (3952, 1)\n",
      "Users Movies: (6040, 3952)\n",
      "Users Movies Sort: (6040, 20)\n",
      "Index Small: (1, 20)\n",
      "Trial User: (1, 20)\n",
      "Dimensions of users_movies: 6040 rows, 3952 columns\n"
     ]
    }
   ],
   "source": [
    "# Import necessary libraries\n",
    "import scipy.io\n",
    "import numpy as np\n",
    "\n",
    "# Load the .mat file\n",
    "data = scipy.io.loadmat('users_movies.mat')\n",
    "\n",
    "# Extract variables from the loaded data\n",
    "movies = data['movies']  # Array of movie titles\n",
    "users_movies = data['users_movies']  # Matrix of user ratings for movies\n",
    "users_movies_sort = data['users_movies_sort']  # Extracted ratings for 20 most popular movies\n",
    "index_small = data['index_small']  # Indexes of the popular movies\n",
    "trial_user = data['trial_user']  # Ratings of the popular movies by a trial user\n",
    "\n",
    "# Get the dimensions of the users_movies matrix\n",
    "m, n = users_movies.shape\n",
    "\n",
    "# Print the variables and their dimensions to verify\n",
    "print(f\"Movies: {movies.shape}\")\n",
    "print(f\"Users Movies: {users_movies.shape}\")\n",
    "print(f\"Users Movies Sort: {users_movies_sort.shape}\")\n",
    "print(f\"Index Small: {index_small.shape}\")\n",
    "print(f\"Trial User: {trial_user.shape}\")\n",
    "print(f\"Dimensions of users_movies: {m} rows, {n} columns\")\n",
    "\n",
    "# Variables: movies, users_movies, users_movies_sort, index_small, trial_user, m, n\n"
   ]
  },
  {
   "cell_type": "markdown",
   "id": "c078b2f2",
   "metadata": {},
   "source": [
    "# Task 2: Print the Titles of the 20 Most Popular Movies"
   ]
  },
  {
   "cell_type": "code",
   "execution_count": 3,
   "id": "bf63b691",
   "metadata": {},
   "outputs": [
    {
     "name": "stdout",
     "output_type": "stream",
     "text": [
      "Rating is based on movies:\n",
      "['Search for One-eye Jimmy, The (1996)']\n",
      "['Little Women (1994)']\n",
      "['Princess Bride, The (1987)']\n",
      "['Wings of Desire (Der Himmel über Berlin) (1987)']\n",
      "['Kalifornia (1993)']\n",
      "[\"Billy's Hollywood Screen Kiss (1997)\"]\n",
      "['Dances with Wolves (1990)']\n",
      "['10 Things I Hate About You (1999)']\n",
      "['Fried Green Tomatoes (1991)']\n",
      "['Snow White and the Seven Dwarfs (1937)']\n",
      "['Love Letter, The (1999)']\n",
      "['Brazil (1985)']\n",
      "['Homeward Bound II']\n",
      "['Thomas Crown Affair, The (1999)']\n",
      "['Taxi Driver (1976)']\n",
      "['Mass Appeal (1984)']\n",
      "['Raiders of the Lost Ark (1981)']\n",
      "['Scout, The (1994)']\n",
      "['Shallow Grave (1994)']\n",
      "['Unforgiven (1992)']\n",
      "\n",
      "\n"
     ]
    }
   ],
   "source": [
    "# Print the titles of the 20 most popular movies\n",
    "print('Rating is based on movies:')\n",
    "\n",
    "# Loop through the index_small array and print the corresponding movie titles\n",
    "for idx in index_small.flatten():\n",
    "    print(movies[idx][0])\n",
    "\n",
    "print('\\n')\n"
   ]
  },
  {
   "cell_type": "markdown",
   "id": "f6199520",
   "metadata": {},
   "source": [
    "# Task 3: Select Users Who Rated All 20 Popular Movies"
   ]
  },
  {
   "cell_type": "code",
   "execution_count": 4,
   "id": "f67fb6f9",
   "metadata": {},
   "outputs": [
    {
     "name": "stdout",
     "output_type": "stream",
     "text": [
      "Ratings: (125, 20)\n"
     ]
    }
   ],
   "source": [
    "# Get the dimensions of the users_movies_sort matrix\n",
    "m1, n1 = users_movies_sort.shape\n",
    "\n",
    "# Initialize an empty list to store the ratings of users who have rated all 20 popular movies\n",
    "ratings = []\n",
    "\n",
    "# Loop through each row in users_movies_sort\n",
    "for j in range(m1):\n",
    "    # Check if the product of the elements in the row is not zero (meaning no zeros in the row)\n",
    "    if np.prod(users_movies_sort[j, :]) != 0:\n",
    "        # Append the row to the ratings list\n",
    "        ratings.append(users_movies_sort[j, :])\n",
    "\n",
    "# Convert the ratings list to a NumPy array\n",
    "ratings = np.array(ratings)\n",
    "\n",
    "# Print the resulting ratings array\n",
    "print(f\"Ratings: {ratings.shape}\")\n",
    "\n",
    "# Variables: ratings, m1, n1\n"
   ]
  },
  {
   "cell_type": "markdown",
   "id": "002cc33b",
   "metadata": {},
   "source": [
    "# Task 4: Compute Euclidean Distances"
   ]
  },
  {
   "cell_type": "code",
   "execution_count": 5,
   "id": "fc4b8ba6",
   "metadata": {},
   "outputs": [
    {
     "name": "stdout",
     "output_type": "stream",
     "text": [
      "Euclidean distances: [359.99861111 255.11174022 510.05783986 360.73813217 360.71179631\n",
      " 441.73068718 360.71041016 674.32484753 509.05795348 570.24468432\n",
      " 510.05489901 761.37507183 568.4470072  359.95555281 720.91330963\n",
      "   8.66025404 441.72389566 441.72955527 719.15227873   8.77496439\n",
      " 510.04117481 624.64629992 360.72981579 360.69377594 624.26436708\n",
      " 673.18942357 510.04705665 360.71041016 255.14505678 510.04117481\n",
      "   8.42614977 255.11370014 569.79557738 360.0180551  843.94668078\n",
      " 441.18816847 441.14736767 624.65670572 441.15530145 673.18422441\n",
      " 360.72981579 510.06764257 673.93545685 569.33118657 441.15190128\n",
      " 441.15416806 672.80829365 509.04027346 441.15303467 255.12349951\n",
      " 441.74653366 624.65350395 441.15190128 568.90596763 673.94139211\n",
      " 570.23854658 509.55863254 441.14963448 569.33909053 360.02361034\n",
      " 255.10782034 440.59051283 360.7145686  255.15681453   8.24621125\n",
      " 624.25315378 672.80160523 360.01111094 255.13917771 569.81400474\n",
      " 255.13721798 254.10627698 360.01944392 673.16788396 508.56661314\n",
      " 441.75106112 441.74540179 441.15416806   8.18535277   9.05538514\n",
      " 360.69654836 360.69932076 569.34611617 440.57802941   9.11043358\n",
      " 673.18348167 441.7487974    7.28010989 509.56059502 508.55481514\n",
      " 360.73120187 569.78943479 255.12349951 672.79714625 255.15093572\n",
      " 253.09286833   9.05538514 509.56059502   8.18535277 508.53908404\n",
      " 510.05195814 254.13579047 255.11370014 674.69771009 360.72288533\n",
      " 510.07058335 764.34874239   8.42614977 441.14623426 720.92301947\n",
      " 360.72149922 360.72149922   7.87400787 509.53802606 509.04714909\n",
      " 441.16436846 440.5848386  672.42620413 570.22451719 673.94510162\n",
      "   8.36660027 360.72288533 508.08660679 254.12005037 570.2499452 ]\n"
     ]
    }
   ],
   "source": [
    "# Get the dimensions of the ratings matrix\n",
    "m2, n2 = ratings.shape\n",
    "\n",
    "# Initialize an empty list to store the Euclidean distances\n",
    "eucl = []\n",
    "\n",
    "# Loop through each row in ratings\n",
    "for i in range(m2):\n",
    "    # Calculate the Euclidean distance between the trial_user vector and the current row of ratings\n",
    "    distance = np.linalg.norm(ratings[i, :] - trial_user.flatten())\n",
    "    # Append the distance to the eucl list\n",
    "    eucl.append(distance)\n",
    "\n",
    "# Convert the eucl list to a NumPy array\n",
    "eucl = np.array(eucl)\n",
    "\n",
    "# Print the resulting Euclidean distances\n",
    "print(f\"Euclidean distances: {eucl}\")\n",
    "\n",
    "# Variables: eucl\n"
   ]
  },
  {
   "cell_type": "markdown",
   "id": "78b8989d",
   "metadata": {},
   "source": [
    "# Task 5: Find the Most Similar User"
   ]
  },
  {
   "cell_type": "code",
   "execution_count": 6,
   "id": "6bf0abd2",
   "metadata": {},
   "outputs": [
    {
     "name": "stdout",
     "output_type": "stream",
     "text": [
      "Sorted Euclidean distances: [  7.28010989   7.87400787   8.18535277   8.18535277   8.24621125\n",
      "   8.36660027   8.42614977   8.42614977   8.66025404   8.77496439\n",
      "   9.05538514   9.05538514   9.11043358 253.09286833 254.10627698\n",
      " 254.12005037 254.13579047 255.10782034 255.11174022 255.11370014\n",
      " 255.11370014 255.12349951 255.12349951 255.13721798 255.13917771\n",
      " 255.14505678 255.15093572 255.15681453 359.95555281 359.99861111\n",
      " 360.01111094 360.0180551  360.01944392 360.02361034 360.69377594\n",
      " 360.69654836 360.69932076 360.71041016 360.71041016 360.71179631\n",
      " 360.7145686  360.72149922 360.72149922 360.72288533 360.72288533\n",
      " 360.72981579 360.72981579 360.73120187 360.73813217 440.57802941\n",
      " 440.5848386  440.59051283 441.14623426 441.14736767 441.14963448\n",
      " 441.15190128 441.15190128 441.15303467 441.15416806 441.15416806\n",
      " 441.15530145 441.16436846 441.18816847 441.72389566 441.72955527\n",
      " 441.73068718 441.74540179 441.74653366 441.7487974  441.75106112\n",
      " 508.08660679 508.53908404 508.55481514 508.56661314 509.04027346\n",
      " 509.04714909 509.05795348 509.53802606 509.55863254 509.56059502\n",
      " 509.56059502 510.04117481 510.04117481 510.04705665 510.05195814\n",
      " 510.05489901 510.05783986 510.06764257 510.07058335 568.4470072\n",
      " 568.90596763 569.33118657 569.33909053 569.34611617 569.78943479\n",
      " 569.79557738 569.81400474 570.22451719 570.23854658 570.24468432\n",
      " 570.2499452  624.25315378 624.26436708 624.64629992 624.65350395\n",
      " 624.65670572 672.42620413 672.79714625 672.80160523 672.80829365\n",
      " 673.16788396 673.18348167 673.18422441 673.18942357 673.93545685\n",
      " 673.94139211 673.94510162 674.32484753 674.69771009 719.15227873\n",
      " 720.91330963 720.92301947 761.37507183 764.34874239 843.94668078]\n",
      "Indices of users sorted by distance: [ 87 112  78  98  64 120 107  30  15  19  96  79  84  95  71 123 101  60\n",
      "   1 102  31  49  92  70  68  28  94  63  13   0  67  33  72  59  23  80\n",
      "  81   6  27   4  62 110 111 121 104  40  22  90   3  83 116  61 108  36\n",
      "  57  52  44  48  45  77  38 115  35  16  17   5  76  50  86  75 122  99\n",
      "  89  74  47 114   8 113  56  88  97  29  20  26 100  10   2  41 105  12\n",
      "  53  43  58  82  91  32  69 118  55   9 124  65  24  21  51  37 117  93\n",
      "  66  46  73  85  39  25  42  54 119   7 103  18  14 109  11 106  34]\n",
      "Index of closest user: 87\n"
     ]
    }
   ],
   "source": [
    "# Sort the Euclidean distances in ascending order\n",
    "DistIndex = np.argsort(eucl)\n",
    "MinDist = np.sort(eucl)\n",
    "\n",
    "# Find the index of the closest user\n",
    "closest_user_Dist = DistIndex[0]\n",
    "\n",
    "# Print the results\n",
    "print(f\"Sorted Euclidean distances: {MinDist}\")\n",
    "print(f\"Indices of users sorted by distance: {DistIndex}\")\n",
    "print(f\"Index of closest user: {closest_user_Dist}\")\n",
    "\n",
    "# Variables: MinDist, DistIndex, closest_user_Dist\n"
   ]
  },
  {
   "cell_type": "markdown",
   "id": "114180d1",
   "metadata": {},
   "source": [
    "# Task 6: Understanding Pearson Correlation for Similarity"
   ]
  },
  {
   "cell_type": "code",
   "execution_count": 7,
   "id": "cb12b5dd",
   "metadata": {},
   "outputs": [
    {
     "name": "stdout",
     "output_type": "stream",
     "text": [
      "Centralized ratings: \n",
      "[[-0.4   0.6   0.6  ...  0.6  -0.4  -1.4 ]\n",
      " [-0.55  0.45  0.45 ...  0.45  0.45  0.45]\n",
      " [ 0.6   0.6   0.6  ...  0.6   0.6  -0.4 ]\n",
      " ...\n",
      " [ 0.55  0.55  0.55 ...  0.55  0.55 -0.45]\n",
      " [-0.5   0.5   0.5  ...  0.5   0.5   0.5 ]\n",
      " [-0.4  -0.4  -0.4  ...  0.6   0.6   0.6 ]]\n",
      "Centralized trial_user: \n",
      "[[-0.45  1.55  1.55  1.55 -0.45 -2.45  0.55  1.55 -1.45  1.55 -1.45  1.55\n",
      "  -0.45  0.55  0.55 -1.45 -1.45 -2.45 -0.45  1.55]]\n"
     ]
    }
   ],
   "source": [
    "# Centralize the columns of the matrix ratings\n",
    "ratings_cent = ratings - np.mean(ratings, axis=1).reshape(-1, 1)\n",
    "\n",
    "# Centralize the trial_user vector\n",
    "trial_user_cent = trial_user - np.mean(trial_user)\n",
    "\n",
    "# Print the centralized ratings and trial_user vectors\n",
    "print(f\"Centralized ratings: \\n{ratings_cent}\")\n",
    "print(f\"Centralized trial_user: \\n{trial_user_cent}\")\n",
    "\n",
    "# Variables: ratings_cent, trial_user_cent\n"
   ]
  },
  {
   "cell_type": "markdown",
   "id": "e0fb4326",
   "metadata": {},
   "source": [
    "# Task 7: Compute Pearson Correlation with Other Users\n",
    "\n",
    "Steps:\n",
    "* Loop through each user in ratings_cent.\n",
    "* Compute Pearson correlation coefficient using np.corrcoef().\n",
    "* Store results in a vector pearson."
   ]
  },
  {
   "cell_type": "code",
   "execution_count": 8,
   "id": "d80db000",
   "metadata": {},
   "outputs": [
    {
     "name": "stdout",
     "output_type": "stream",
     "text": [
      "Pearson correlation coefficients: [ 0.07561935  0.36369309  0.0245783  -0.16556179  0.03582872  0.2140846\n",
      "  0.14763779 -0.02178972 -0.0100936   0.09702463  0.05321628 -0.2062086\n",
      "  0.16821448  0.60769118  0.32403366  0.19674451  0.36226722  0.33180702\n",
      " -0.0053019   0.12647862  0.30960763  0.44063497 -0.06205716  0.4257963\n",
      " -0.183647   -0.15140397  0.24374604  0.14284374  0.19674451  0.39302868\n",
      "  0.33727631  0.46562671  0.13151475 -0.01950268  0.15690109 -0.34105647\n",
      "  0.24896632  0.21031844  0.15617376 -0.01194291 -0.11582368 -0.08011545\n",
      "  0.10748615  0.39938107  0.21573203  0.16556179 -0.24313206  0.20259223\n",
      "  0.27942446  0.33700654  0.08682524  0.13122024  0.32557134  0.0533586\n",
      "  0.14811562  0.36933894 -0.00739965  0.28900603  0.13876403 -0.14800564\n",
      "  0.33653018 -0.15539269  0.19444977 -0.10748615  0.35165724  0.06931045\n",
      "  0.28756254  0.00267796  0.21716794 -0.32403366  0.13291394  0.24573705\n",
      " -0.11582368  0.42128131 -0.07397705  0.00267796  0.1170161   0.16556179\n",
      "  0.3024463   0.23837048  0.28858643  0.43115223  0.04744598  0.10551014\n",
      " -0.01194291 -0.03570538  0.05623725  0.62896156 -0.0100936  -0.16677361\n",
      " -0.01791436  0.1800582   0.21691509  0.08682524  0.13545965  0.32924378\n",
      "  0.23837048 -0.11781529  0.51951641  0.09871488  0.12869663  0.15107865\n",
      "  0.21452952  0.06541399  0.05472927 -0.17929818  0.31402432  0.23580013\n",
      "  0.2549193   0.01917923  0.24222691  0.01126761  0.59988588  0.2533473\n",
      "  0.09057869  0.12459704  0.05175259 -0.01748262  0.47449447 -0.07505349\n",
      "  0.30217235 -0.10238909 -0.36958744  0.16909002 -0.1170161 ]\n"
     ]
    }
   ],
   "source": [
    "\n",
    "\n",
    "# Initialize the pearson array\n",
    "pearson = np.zeros(m2)\n",
    "\n",
    "# Compute Pearson correlation coefficients\n",
    "for i in range(m2):\n",
    "    pearson[i] = np.corrcoef(ratings_cent[i, :], trial_user_cent.flatten())[0, 1]\n",
    "\n",
    "# Print the resulting Pearson correlation coefficients\n",
    "print(f\"Pearson correlation coefficients: {pearson}\")\n",
    "\n",
    "# Variables: pearson\n"
   ]
  },
  {
   "cell_type": "markdown",
   "id": "8cb93d2a",
   "metadata": {},
   "source": [
    "# Task 8: Finding the Most Similar User (Using Pearson Correlation)\n",
    "\n",
    "* The correlation coefficient ranges from -1 to 1.\n",
    "* Closer to 1 → More similar user\n",
    "* Closer to -1 → Opposite tastes\n",
    "* Sort users by Pearson correlation (highest first).\n",
    "* Identify the most similar user (highest Pearson correlation)."
   ]
  },
  {
   "cell_type": "code",
   "execution_count": 9,
   "id": "d8627707",
   "metadata": {},
   "outputs": [
    {
     "name": "stdout",
     "output_type": "stream",
     "text": [
      "Sorted Pearson correlation coefficients: [ 0.62896156  0.60769118  0.59988588  0.51951641  0.47449447  0.46562671\n",
      "  0.44063497  0.43115223  0.4257963   0.42128131  0.39938107  0.39302868\n",
      "  0.36933894  0.36369309  0.36226722  0.35165724  0.33727631  0.33700654\n",
      "  0.33653018  0.33180702  0.32924378  0.32557134  0.32403366  0.31402432\n",
      "  0.30960763  0.3024463   0.30217235  0.28900603  0.28858643  0.28756254\n",
      "  0.27942446  0.2549193   0.2533473   0.24896632  0.24573705  0.24374604\n",
      "  0.24222691  0.23837048  0.23837048  0.23580013  0.21716794  0.21691509\n",
      "  0.21573203  0.21452952  0.2140846   0.21031844  0.20259223  0.19674451\n",
      "  0.19674451  0.19444977  0.1800582   0.16909002  0.16821448  0.16556179\n",
      "  0.16556179  0.15690109  0.15617376  0.15107865  0.14811562  0.14763779\n",
      "  0.14284374  0.13876403  0.13545965  0.13291394  0.13151475  0.13122024\n",
      "  0.12869663  0.12647862  0.12459704  0.1170161   0.10748615  0.10551014\n",
      "  0.09871488  0.09702463  0.09057869  0.08682524  0.08682524  0.07561935\n",
      "  0.06931045  0.06541399  0.05623725  0.05472927  0.0533586   0.05321628\n",
      "  0.05175259  0.04744598  0.03582872  0.0245783   0.01917923  0.01126761\n",
      "  0.00267796  0.00267796 -0.0053019  -0.00739965 -0.0100936  -0.0100936\n",
      " -0.01194291 -0.01194291 -0.01748262 -0.01791436 -0.01950268 -0.02178972\n",
      " -0.03570538 -0.06205716 -0.07397705 -0.07505349 -0.08011545 -0.10238909\n",
      " -0.10748615 -0.11582368 -0.11582368 -0.1170161  -0.11781529 -0.14800564\n",
      " -0.15140397 -0.15539269 -0.16556179 -0.16677361 -0.17929818 -0.183647\n",
      " -0.2062086  -0.24313206 -0.32403366 -0.34105647 -0.36958744]\n",
      "Indices of users sorted by Pearson correlation: [ 87  13 112  98 118  31  21  81  23  73  43  29  55   1  16  64  30  49\n",
      "  60  17  95  52  14 106  20  78 120  57  80  66  48 108 113  36  71  26\n",
      " 110  96  79 107  68  92  44 102   5  37  47  28  15  62  91 123  12  45\n",
      "  77  34  38 101  54   6  27  58  94  70  32  51 100  19 115  76  42  83\n",
      "  99   9 114  93  50   0  65 103  86 104  53  10 116  82   4   2 109 111\n",
      "  67  75  18  56   8  88  39  84 117  90  33   7  85  22  74 119  41 121\n",
      "  63  72  40 124  97  59  25  61   3  89 105  24  11  46  69  35 122]\n",
      "Index of user with highest Pearson correlation: 87\n"
     ]
    }
   ],
   "source": [
    "# Sort the Pearson correlation coefficients in descending order\n",
    "PearsonIndex = np.argsort(pearson)[::-1]\n",
    "MaxPearson = np.sort(pearson)[::-1]\n",
    "\n",
    "# Find the index of the user with the highest correlation coefficient\n",
    "closest_user_Pearson = PearsonIndex[0]\n",
    "\n",
    "# Print the results\n",
    "print(f\"Sorted Pearson correlation coefficients: {MaxPearson}\")\n",
    "print(f\"Indices of users sorted by Pearson correlation: {PearsonIndex}\")\n",
    "print(f\"Index of user with highest Pearson correlation: {closest_user_Pearson}\")\n",
    "\n",
    "# Variables: MaxPearson, PearsonIndex, closest_user_Pearson\n"
   ]
  },
  {
   "cell_type": "markdown",
   "id": "c70ddb1d",
   "metadata": {},
   "source": [
    "# Task 9: Comparing Pearson and Euclidean Distance Results\n",
    "\n",
    "* closest_user_Dist → Most similar user by Euclidean distance\n",
    "* closest_user_Pearson → Most similar user by Pearson correlation"
   ]
  },
  {
   "cell_type": "code",
   "execution_count": 10,
   "id": "59ee35e2",
   "metadata": {},
   "outputs": [
    {
     "name": "stdout",
     "output_type": "stream",
     "text": [
      "Indices sorted by Euclidean distance: [ 87 112  78  98  64 120 107  30  15  19  96  79  84  95  71 123 101  60\n",
      "   1 102  31  49  92  70  68  28  94  63  13   0  67  33  72  59  23  80\n",
      "  81   6  27   4  62 110 111 121 104  40  22  90   3  83 116  61 108  36\n",
      "  57  52  44  48  45  77  38 115  35  16  17   5  76  50  86  75 122  99\n",
      "  89  74  47 114   8 113  56  88  97  29  20  26 100  10   2  41 105  12\n",
      "  53  43  58  82  91  32  69 118  55   9 124  65  24  21  51  37 117  93\n",
      "  66  46  73  85  39  25  42  54 119   7 103  18  14 109  11 106  34]\n",
      "Indices sorted by Pearson correlation: [ 87  13 112  98 118  31  21  81  23  73  43  29  55   1  16  64  30  49\n",
      "  60  17  95  52  14 106  20  78 120  57  80  66  48 108 113  36  71  26\n",
      " 110  96  79 107  68  92  44 102   5  37  47  28  15  62  91 123  12  45\n",
      "  77  34  38 101  54   6  27  58  94  70  32  51 100  19 115  76  42  83\n",
      "  99   9 114  93  50   0  65 103  86 104  53  10 116  82   4   2 109 111\n",
      "  67  75  18  56   8  88  39  84 117  90  33   7  85  22  74 119  41 121\n",
      "  63  72  40 124  97  59  25  61   3  89 105  24  11  46  69  35 122]\n",
      "The variables closest_user_Pearson and closest_user_Dist are the same.\n"
     ]
    }
   ],
   "source": [
    "# Compare the elements of the vectors DistIndex and PearsonIndex\n",
    "print(\"Indices sorted by Euclidean distance:\", DistIndex)\n",
    "print(\"Indices sorted by Pearson correlation:\", PearsonIndex)\n",
    "\n",
    "# Check if the variables closest_user_Pearson and closest_user_Dist are the same\n",
    "if closest_user_Pearson == closest_user_Dist:\n",
    "    print(\"The variables closest_user_Pearson and closest_user_Dist are the same.\")\n",
    "else:\n",
    "    print(\"The variables closest_user_Pearson and closest_user_Dist are different.\")\n"
   ]
  },
  {
   "cell_type": "markdown",
   "id": "0adc6fa1",
   "metadata": {},
   "source": [
    "# Task 10: Recommending Movies to the Trial User\n",
    "we recommend movies based on their highest-rated movies (rating = 5).\n",
    "\n",
    "Steps\n",
    "* Find movies that the most similar user (by distance) rated 5 → recommend_dist\n",
    "* Find movies that the most similar user (by Pearson) rated 5 → recommend_pearson\n",
    "* Find movies the trial user already liked (rated 5 on their 20 movies list) → liked"
   ]
  },
  {
   "cell_type": "code",
   "execution_count": 11,
   "id": "496fb129",
   "metadata": {},
   "outputs": [
    {
     "name": "stdout",
     "output_type": "stream",
     "text": [
      "index_small shape: (1, 20)\n",
      "trial_user shape: (1, 20)\n"
     ]
    }
   ],
   "source": [
    "print(\"index_small shape:\", index_small.shape)\n",
    "print(\"trial_user shape:\", trial_user.shape)\n"
   ]
  },
  {
   "cell_type": "code",
   "execution_count": 12,
   "id": "55f70742",
   "metadata": {},
   "outputs": [
    {
     "name": "stdout",
     "output_type": "stream",
     "text": [
      "Movies liked by the trial user: [array(['Little Women (1994)'], dtype='<U19'), array(['Princess Bride, The (1987)'], dtype='<U26'), array(['Wings of Desire (Der Himmel über Berlin) (1987)'], dtype='<U47'), array(['10 Things I Hate About You (1999)'], dtype='<U33'), array(['Snow White and the Seven Dwarfs (1937)'], dtype='<U38'), array(['Brazil (1985)'], dtype='<U13'), array(['Unforgiven (1992)'], dtype='<U17')]\n",
      "Recommended movies based on distance criterion: [array(['Taxi Driver (1976)'], dtype='<U18'), array([\"Schindler's List (1993)\"], dtype='<U23'), array(['Fargo (1996)'], dtype='<U12'), array(['Godfather, The (1972)'], dtype='<U21'), array(['North by Northwest (1959)'], dtype='<U25'), array(['Casablanca (1942)'], dtype='<U17'), array(['Citizen Kane (1941)'], dtype='<U19'), array(['Mr. Smith Goes to Washington (1939)'], dtype='<U35'), array(['Bonnie and Clyde (1967)'], dtype='<U23'), array(['Bob Roberts (1992)'], dtype='<U18'), array(['Paris Is Burning (1990)'], dtype='<U23'), array(['12 Angry Men (1957)'], dtype='<U19'), array(['To Kill a Mockingbird (1962)'], dtype='<U28'), array(['Title not available'], dtype='<U19'), array(['Grand Day Out, A (1992)'], dtype='<U23'), array(['Raging Bull (1980)'], dtype='<U18'), array(['Annie Hall (1977)'], dtype='<U17'), array(['Stand by Me (1986)'], dtype='<U18'), array(['Killing Fields, The (1984)'], dtype='<U26'), array(['My Life as a Dog (Mitt liv som hund) (1985)'], dtype='<U43'), array(['Tickle in the Heart, A (1996)'], dtype='<U29'), array(['Boys, Les (1997)'], dtype='<U16'), array([\"There's Something About Mary (1998)\"], dtype='<U35'), array(['On the Waterfront (1954)'], dtype='<U24'), array(['Ordinary People (1980)'], dtype='<U22'), array(['Chariots of Fire (1981)'], dtype='<U23'), array(['Rain Man (1988)'], dtype='<U15'), array(['Saving Private Ryan (1998)'], dtype='<U26'), array(['Life Is Beautiful (La Vita è bella) (1997)'], dtype='<U42'), array(['Risky Business (1983)'], dtype='<U21'), array(['Brief Encounter (1946)'], dtype='<U22'), array(['Shower (Xizhao) (1999)'], dtype='<U22')]\n",
      "Recommended movies based on Pearson correlation criterion: [array(['Taxi Driver (1976)'], dtype='<U18'), array([\"Schindler's List (1993)\"], dtype='<U23'), array(['Fargo (1996)'], dtype='<U12'), array(['Godfather, The (1972)'], dtype='<U21'), array(['North by Northwest (1959)'], dtype='<U25'), array(['Casablanca (1942)'], dtype='<U17'), array(['Citizen Kane (1941)'], dtype='<U19'), array(['Mr. Smith Goes to Washington (1939)'], dtype='<U35'), array(['Bonnie and Clyde (1967)'], dtype='<U23'), array(['Bob Roberts (1992)'], dtype='<U18'), array(['Paris Is Burning (1990)'], dtype='<U23'), array(['12 Angry Men (1957)'], dtype='<U19'), array(['To Kill a Mockingbird (1962)'], dtype='<U28'), array(['Title not available'], dtype='<U19'), array(['Grand Day Out, A (1992)'], dtype='<U23'), array(['Raging Bull (1980)'], dtype='<U18'), array(['Annie Hall (1977)'], dtype='<U17'), array(['Stand by Me (1986)'], dtype='<U18'), array(['Killing Fields, The (1984)'], dtype='<U26'), array(['My Life as a Dog (Mitt liv som hund) (1985)'], dtype='<U43'), array(['Tickle in the Heart, A (1996)'], dtype='<U29'), array(['Boys, Les (1997)'], dtype='<U16'), array([\"There's Something About Mary (1998)\"], dtype='<U35'), array(['On the Waterfront (1954)'], dtype='<U24'), array(['Ordinary People (1980)'], dtype='<U22'), array(['Chariots of Fire (1981)'], dtype='<U23'), array(['Rain Man (1988)'], dtype='<U15'), array(['Saving Private Ryan (1998)'], dtype='<U26'), array(['Life Is Beautiful (La Vita è bella) (1997)'], dtype='<U42'), array(['Risky Business (1983)'], dtype='<U21'), array(['Brief Encounter (1946)'], dtype='<U22'), array(['Shower (Xizhao) (1999)'], dtype='<U22')]\n"
     ]
    }
   ],
   "source": [
    "import scipy.io\n",
    "import numpy as np\n",
    "\n",
    "# Load the .mat file\n",
    "data = scipy.io.loadmat('users_movies.mat')\n",
    "\n",
    "# Extract variables from the loaded data\n",
    "movies = data['movies']  # Array of movie titles\n",
    "users_movies = data['users_movies']  # Matrix of user ratings for movies\n",
    "users_movies_sort = data['users_movies_sort']  # Extracted ratings for 20 most popular movies\n",
    "index_small = data['index_small'].flatten()  # Flatten index_small to 1D array\n",
    "trial_user = data['trial_user'].flatten()  # Ensure trial_user is 1D array\n",
    "\n",
    "# Variables: movies, users_movies, users_movies_sort, index_small, trial_user\n",
    "m, n = users_movies.shape\n",
    "\n",
    "# Recommendations based on the distance criterion\n",
    "recommend_dist = []\n",
    "for k in range(n):\n",
    "    if users_movies[closest_user_Dist, k] == 5:\n",
    "        recommend_dist.append(k)\n",
    "\n",
    "# Recommendations based on the Pearson correlation coefficient criterion\n",
    "recommend_pearson = []\n",
    "for k in range(n):\n",
    "    if users_movies[closest_user_Pearson, k] == 5:\n",
    "        recommend_pearson.append(k)\n",
    "\n",
    "# Movies liked by the trial user\n",
    "liked = []\n",
    "for k in range(20):\n",
    "    if trial_user[k] == 5:\n",
    "        # Convert 2D index_small to 1D index and add to liked list\n",
    "        if k < len(index_small):\n",
    "            liked.append(index_small[k])\n",
    "\n",
    "# Convert indices to movie titles\n",
    "liked_titles = [movies[i][0] for i in liked]\n",
    "recommend_dist_titles = [movies[i][0] for i in recommend_dist]\n",
    "recommend_pearson_titles = [movies[i][0] for i in recommend_pearson]\n",
    "\n",
    "# Print the results\n",
    "print(\"Movies liked by the trial user:\", liked_titles)\n",
    "print(\"Recommended movies based on distance criterion:\", recommend_dist_titles)\n",
    "print(\"Recommended movies based on Pearson correlation criterion:\", recommend_pearson_titles)\n",
    "\n",
    "# Variables: liked, recommend_dist, recommend_pearson\n"
   ]
  },
  {
   "cell_type": "markdown",
   "id": "c05dcc99",
   "metadata": {},
   "source": [
    "# Task 11K Display the Movie Titles"
   ]
  },
  {
   "cell_type": "code",
   "execution_count": 13,
   "id": "ac5cbbfc",
   "metadata": {},
   "outputs": [
    {
     "name": "stdout",
     "output_type": "stream",
     "text": [
      "Movies liked by the trial user:\n",
      "Movie Titles:\n",
      "[array(['Little Women (1994)'], dtype='<U19')]\n",
      "[array(['Princess Bride, The (1987)'], dtype='<U26')]\n",
      "[array(['Wings of Desire (Der Himmel über Berlin) (1987)'], dtype='<U47')]\n",
      "[array(['10 Things I Hate About You (1999)'], dtype='<U33')]\n",
      "[array(['Snow White and the Seven Dwarfs (1937)'], dtype='<U38')]\n",
      "[array(['Brazil (1985)'], dtype='<U13')]\n",
      "[array(['Unforgiven (1992)'], dtype='<U17')]\n",
      "\n",
      "Recommended movies based on distance criterion:\n",
      "Movie Titles:\n",
      "[array(['Taxi Driver (1976)'], dtype='<U18')]\n",
      "[array([\"Schindler's List (1993)\"], dtype='<U23')]\n",
      "[array(['Fargo (1996)'], dtype='<U12')]\n",
      "[array(['Godfather, The (1972)'], dtype='<U21')]\n",
      "[array(['North by Northwest (1959)'], dtype='<U25')]\n",
      "[array(['Casablanca (1942)'], dtype='<U17')]\n",
      "[array(['Citizen Kane (1941)'], dtype='<U19')]\n",
      "[array(['Mr. Smith Goes to Washington (1939)'], dtype='<U35')]\n",
      "[array(['Bonnie and Clyde (1967)'], dtype='<U23')]\n",
      "[array(['Bob Roberts (1992)'], dtype='<U18')]\n",
      "[array(['Paris Is Burning (1990)'], dtype='<U23')]\n",
      "[array(['12 Angry Men (1957)'], dtype='<U19')]\n",
      "[array(['To Kill a Mockingbird (1962)'], dtype='<U28')]\n",
      "[array(['Title not available'], dtype='<U19')]\n",
      "[array(['Grand Day Out, A (1992)'], dtype='<U23')]\n",
      "[array(['Raging Bull (1980)'], dtype='<U18')]\n",
      "[array(['Annie Hall (1977)'], dtype='<U17')]\n",
      "[array(['Stand by Me (1986)'], dtype='<U18')]\n",
      "[array(['Killing Fields, The (1984)'], dtype='<U26')]\n",
      "[array(['My Life as a Dog (Mitt liv som hund) (1985)'], dtype='<U43')]\n",
      "[array(['Tickle in the Heart, A (1996)'], dtype='<U29')]\n",
      "[array(['Boys, Les (1997)'], dtype='<U16')]\n",
      "[array([\"There's Something About Mary (1998)\"], dtype='<U35')]\n",
      "[array(['On the Waterfront (1954)'], dtype='<U24')]\n",
      "[array(['Ordinary People (1980)'], dtype='<U22')]\n",
      "[array(['Chariots of Fire (1981)'], dtype='<U23')]\n",
      "[array(['Rain Man (1988)'], dtype='<U15')]\n",
      "[array(['Saving Private Ryan (1998)'], dtype='<U26')]\n",
      "[array(['Life Is Beautiful (La Vita è bella) (1997)'], dtype='<U42')]\n",
      "[array(['Risky Business (1983)'], dtype='<U21')]\n",
      "[array(['Brief Encounter (1946)'], dtype='<U22')]\n",
      "[array(['Shower (Xizhao) (1999)'], dtype='<U22')]\n",
      "\n",
      "Recommended movies based on Pearson correlation criterion:\n",
      "Movie Titles:\n",
      "[array(['Taxi Driver (1976)'], dtype='<U18')]\n",
      "[array([\"Schindler's List (1993)\"], dtype='<U23')]\n",
      "[array(['Fargo (1996)'], dtype='<U12')]\n",
      "[array(['Godfather, The (1972)'], dtype='<U21')]\n",
      "[array(['North by Northwest (1959)'], dtype='<U25')]\n",
      "[array(['Casablanca (1942)'], dtype='<U17')]\n",
      "[array(['Citizen Kane (1941)'], dtype='<U19')]\n",
      "[array(['Mr. Smith Goes to Washington (1939)'], dtype='<U35')]\n",
      "[array(['Bonnie and Clyde (1967)'], dtype='<U23')]\n",
      "[array(['Bob Roberts (1992)'], dtype='<U18')]\n",
      "[array(['Paris Is Burning (1990)'], dtype='<U23')]\n",
      "[array(['12 Angry Men (1957)'], dtype='<U19')]\n",
      "[array(['To Kill a Mockingbird (1962)'], dtype='<U28')]\n",
      "[array(['Title not available'], dtype='<U19')]\n",
      "[array(['Grand Day Out, A (1992)'], dtype='<U23')]\n",
      "[array(['Raging Bull (1980)'], dtype='<U18')]\n",
      "[array(['Annie Hall (1977)'], dtype='<U17')]\n",
      "[array(['Stand by Me (1986)'], dtype='<U18')]\n",
      "[array(['Killing Fields, The (1984)'], dtype='<U26')]\n",
      "[array(['My Life as a Dog (Mitt liv som hund) (1985)'], dtype='<U43')]\n",
      "[array(['Tickle in the Heart, A (1996)'], dtype='<U29')]\n",
      "[array(['Boys, Les (1997)'], dtype='<U16')]\n",
      "[array([\"There's Something About Mary (1998)\"], dtype='<U35')]\n",
      "[array(['On the Waterfront (1954)'], dtype='<U24')]\n",
      "[array(['Ordinary People (1980)'], dtype='<U22')]\n",
      "[array(['Chariots of Fire (1981)'], dtype='<U23')]\n",
      "[array(['Rain Man (1988)'], dtype='<U15')]\n",
      "[array(['Saving Private Ryan (1998)'], dtype='<U26')]\n",
      "[array(['Life Is Beautiful (La Vita è bella) (1997)'], dtype='<U42')]\n",
      "[array(['Risky Business (1983)'], dtype='<U21')]\n",
      "[array(['Brief Encounter (1946)'], dtype='<U22')]\n",
      "[array(['Shower (Xizhao) (1999)'], dtype='<U22')]\n",
      "\n"
     ]
    }
   ],
   "source": [
    "# Function to print movie titles based on indices\n",
    "def print_movie_titles(indices, movie_titles):\n",
    "    print(\"Movie Titles:\")\n",
    "    for index in indices:\n",
    "        print(movie_titles[index])\n",
    "    print()\n",
    "\n",
    "# Print titles of movies liked by the trial user\n",
    "print(\"Movies liked by the trial user:\")\n",
    "print_movie_titles(liked, movies)\n",
    "\n",
    "# Print recommendations based on the distance criterion\n",
    "print(\"Recommended movies based on distance criterion:\")\n",
    "print_movie_titles(recommend_dist, movies)\n",
    "\n",
    "# Print recommendations based on the Pearson correlation criterion\n",
    "print(\"Recommended movies based on Pearson correlation criterion:\")\n",
    "print_movie_titles(recommend_pearson, movies)\n"
   ]
  },
  {
   "cell_type": "markdown",
   "id": "439675b4",
   "metadata": {},
   "source": [
    "# Task 12"
   ]
  },
  {
   "cell_type": "code",
   "execution_count": 14,
   "id": "d337101a",
   "metadata": {},
   "outputs": [
    {
     "name": "stdout",
     "output_type": "stream",
     "text": [
      "My Ratings Vector:\n",
      "[5 1 4 3 2 5 1 4 3 5 2 5 1 3 4 5 2 1 4 3]\n"
     ]
    }
   ],
   "source": [
    "import numpy as np\n",
    "\n",
    "# Manually specify your ratings for the 20 popular movies\n",
    "# Example: Dislike some movies (1), Like some movies (5), Random ratings for others\n",
    "# Replace these values with your own ratings\n",
    "myratings = np.array([5, 1, 4, 3, 2, 5, 1, 4, 3, 5, 2, 5, 1, 3, 4, 5, 2, 1, 4, 3])\n",
    "\n",
    "# Ensure myratings is a row vector (1D array with 20 elements)\n",
    "print(\"My Ratings Vector:\")\n",
    "print(myratings)\n"
   ]
  },
  {
   "cell_type": "markdown",
   "id": "72b01b89",
   "metadata": {},
   "source": [
    "# Task 13: Generate Personal Recommendations"
   ]
  },
  {
   "cell_type": "code",
   "execution_count": 15,
   "id": "9d7fd2fa",
   "metadata": {},
   "outputs": [
    {
     "name": "stdout",
     "output_type": "stream",
     "text": [
      "Movies liked by the trial user:\n",
      "[array(['Search for One-eye Jimmy, The (1996)'], dtype='<U36'), array([\"Billy's Hollywood Screen Kiss (1997)\"], dtype='<U36'), array(['Snow White and the Seven Dwarfs (1937)'], dtype='<U38'), array(['Brazil (1985)'], dtype='<U13'), array(['Mass Appeal (1984)'], dtype='<U18')]\n",
      "Recommended movies based on distance criterion:\n",
      "[array(['Star Wars Episode IV - A New Hope (1977)'], dtype='<U40'), array(['Silence of the Lambs, The (1991)'], dtype='<U32'), array(['Casablanca (1942)'], dtype='<U17'), array(['Maltese Falcon, The (1941)'], dtype='<U26'), array(['Wizard of Oz, The (1939)'], dtype='<U24'), array(['Gone with the Wind (1939)'], dtype='<U25'), array(['Citizen Kane (1941)'], dtype='<U19'), array(['2001'], dtype='<U4'), array(['Paris Is Burning (1990)'], dtype='<U23'), array(['Raiders of the Lost Ark (1981)'], dtype='<U30'), array(['Bridge on the River Kwai, The (1957)'], dtype='<U36'), array(['Patton (1970)'], dtype='<U13'), array(['High Noon (1952)'], dtype='<U16'), array(['Gandhi (1982)'], dtype='<U13'), array(['Frankenstein (1931)'], dtype='<U19'), array(['Papillon (1973)'], dtype='<U15'), array(['Inherit the Wind (1960)'], dtype='<U23')]\n",
      "Recommended movies based on Pearson correlation criterion:\n",
      "[array([\"Schindler's List (1993)\"], dtype='<U23'), array(['Year of the Horse (1997)'], dtype='<U24'), array(['Saving Private Ryan (1998)'], dtype='<U26'), array(['Matrix, The (1999)'], dtype='<U18'), array(['Thirteenth Floor, The (1999)'], dtype='<U28'), array(['American Beauty (1999)'], dtype='<U22'), array(['Far and Away (1992)'], dtype='<U19'), array(['Beach, The (2000)'], dtype='<U17'), array(['Final Destination (2000)'], dtype='<U24'), array(['High Fidelity (2000)'], dtype='<U20'), array(['Gladiator (2000)'], dtype='<U16'), array(['Mission'], dtype='<U7'), array(['Titan A.E. (2000)'], dtype='<U17'), array(['Me, Myself and Irene (2000)'], dtype='<U27'), array(['Remember the Titans (2000)'], dtype='<U26')]\n"
     ]
    }
   ],
   "source": [
    "import numpy as np\n",
    "import scipy.io\n",
    "\n",
    "# Load the .mat file\n",
    "data = scipy.io.loadmat('users_movies.mat')\n",
    "\n",
    "# Extract variables from the loaded data\n",
    "movies = data['movies']  # Array of movie titles\n",
    "users_movies = data['users_movies']  # Matrix of user ratings for movies\n",
    "users_movies_sort = data['users_movies_sort']  # Extracted ratings for 20 most popular movies\n",
    "index_small = data['index_small'].flatten()  # Flatten index_small to 1D array\n",
    "\n",
    "# Define your own ratings vector (myratings)\n",
    "myratings = np.array([5, 1, 4, 3, 2, 5, 1, 4, 3, 5, 2, 5, 1, 3, 4, 5, 2, 1, 4, 3])\n",
    "\n",
    "# Step 4: Select users who rated all 20 popular movies\n",
    "[m1, n1] = users_movies_sort.shape\n",
    "ratings = [users_movies_sort[j, :] for j in range(m1) if np.all(users_movies_sort[j, :] > 0)]\n",
    "ratings = np.array(ratings)\n",
    "\n",
    "# Step 5: Compute Euclidean distances\n",
    "eucl = np.linalg.norm(ratings - myratings, axis=1)\n",
    "\n",
    "# Step 6: Find the closest user based on Euclidean distance\n",
    "MinDist, DistIndex = np.sort(eucl), np.argsort(eucl)\n",
    "closest_user_Dist = DistIndex[0]\n",
    "\n",
    "# Step 7: Centralize ratings and myratings for Pearson correlation\n",
    "ratings_cent = ratings - np.mean(ratings, axis=1, keepdims=True)\n",
    "myratings_cent = myratings - np.mean(myratings)\n",
    "\n",
    "# Step 8: Compute Pearson correlation coefficients\n",
    "pearson = np.sum(ratings_cent * myratings_cent, axis=1) / (\n",
    "    np.sqrt(np.sum(ratings_cent ** 2, axis=1)) * np.sqrt(np.sum(myratings_cent ** 2))\n",
    ")\n",
    "\n",
    "# Step 9: Find the closest user based on Pearson correlation\n",
    "MaxPearson, PearsonIndex = np.sort(pearson)[::-1], np.argsort(pearson)[::-1]\n",
    "closest_user_Pearson = PearsonIndex[0]\n",
    "\n",
    "# Step 10: Create recommendations based on the distance criterion\n",
    "recommend_dist = [k for k in range(users_movies.shape[1]) if users_movies[closest_user_Dist, k] == 5]\n",
    "\n",
    "# Step 11: Create recommendations based on the Pearson correlation criterion\n",
    "recommend_pearson = [k for k in range(users_movies.shape[1]) if users_movies[closest_user_Pearson, k] == 5]\n",
    "\n",
    "# Create the list of movies liked by the trial user\n",
    "liked = [index_small[k] for k in range(20) if myratings[k] == 5]\n",
    "\n",
    "# Convert indices to movie titles\n",
    "liked_titles = [movies[i][0] for i in liked]\n",
    "recommend_dist_titles = [movies[i][0] for i in recommend_dist]\n",
    "recommend_pearson_titles = [movies[i][0] for i in recommend_pearson]\n",
    "\n",
    "# Print the results\n",
    "print(\"Movies liked by the trial user:\")\n",
    "print(liked_titles)\n",
    "\n",
    "print(\"Recommended movies based on distance criterion:\")\n",
    "print(recommend_dist_titles)\n",
    "\n",
    "print(\"Recommended movies based on Pearson correlation criterion:\")\n",
    "print(recommend_pearson_titles)\n"
   ]
  },
  {
   "cell_type": "code",
   "execution_count": null,
   "id": "c2dbba0a",
   "metadata": {},
   "outputs": [],
   "source": []
  }
 ],
 "metadata": {
  "kernelspec": {
   "display_name": "Python 3",
   "language": "python",
   "name": "python3"
  },
  "language_info": {
   "codemirror_mode": {
    "name": "ipython",
    "version": 3
   },
   "file_extension": ".py",
   "mimetype": "text/x-python",
   "name": "python",
   "nbconvert_exporter": "python",
   "pygments_lexer": "ipython3",
   "version": "3.11.5"
  }
 },
 "nbformat": 4,
 "nbformat_minor": 5
}
